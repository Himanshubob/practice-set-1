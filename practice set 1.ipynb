{
 "cells": [
  {
   "cell_type": "markdown",
   "id": "6dc9a4be",
   "metadata": {},
   "source": [
    "# Q1. Write a Python program that defines a function called \"add_numbers\" that takes two arguments (i.e.,numbers) and returns their sum. Within the function, add the two numbers together and return the resultusing the return statement. Call the function with the values 5 and 6, and print out the returned result.This will result in the addition of 5 and 6, with the output of the program being the sum of these two numbers.\n"
   ]
  },
  {
   "cell_type": "code",
   "execution_count": 4,
   "id": "4f2345bd",
   "metadata": {},
   "outputs": [],
   "source": [
    "def add_number(a,b):\n",
    "    sum=a+b\n",
    "    \n",
    "    return sum\n",
    "    "
   ]
  },
  {
   "cell_type": "code",
   "execution_count": 6,
   "id": "f21d792f",
   "metadata": {},
   "outputs": [
    {
     "data": {
      "text/plain": [
       "11"
      ]
     },
     "execution_count": 6,
     "metadata": {},
     "output_type": "execute_result"
    }
   ],
   "source": [
    "add_number(5,6)"
   ]
  },
  {
   "cell_type": "markdown",
   "id": "4c04c659",
   "metadata": {},
   "source": [
    "# Q2. Write a Python program that calculates the square root of a given number using a built-in function. Specifically, the program should take an integer or float input from the user, calculate its square root using the 'sqrt()' function from the 'math' module, and print out the result to the user. As an example, calculate the square root of the number 625 using this program, which should output the value of 25."
   ]
  },
  {
   "cell_type": "code",
   "execution_count": 10,
   "id": "ec4f42b2",
   "metadata": {},
   "outputs": [
    {
     "name": "stdout",
     "output_type": "stream",
     "text": [
      "enter the value  is :625\n",
      "the squrt rootr of the numer: 25.0\n"
     ]
    }
   ],
   "source": [
    "import math\n",
    "n=eval(input(\"enter the value  is :\"))\n",
    "sqrt_number=math.sqrt(n)\n",
    "print(\"the squrt rootr of the numer:\",sqrt_number)"
   ]
  },
  {
   "cell_type": "markdown",
   "id": "2e31eb10",
   "metadata": {},
   "source": [
    "# Q3.Write a program that prints all prime numbers between 0 to 50.\n"
   ]
  },
  {
   "cell_type": "code",
   "execution_count": 14,
   "id": "a135e8dd",
   "metadata": {},
   "outputs": [
    {
     "name": "stdout",
     "output_type": "stream",
     "text": [
      "2\n",
      "3\n",
      "5\n",
      "7\n",
      "11\n",
      "13\n",
      "17\n",
      "19\n",
      "23\n",
      "29\n",
      "31\n",
      "37\n",
      "41\n",
      "43\n",
      "47\n"
     ]
    }
   ],
   "source": [
    "for n in range(2,50):\n",
    "    is_prime=True\n",
    "    for i in range(2,n):\n",
    "        if n%i==0: \n",
    "            is_prime=False \n",
    "            break\n",
    "            i\n",
    "    if is_prime: \n",
    "        print(n)\n",
    "    "
   ]
  },
  {
   "cell_type": "markdown",
   "id": "f299faf9",
   "metadata": {},
   "source": [
    "# Q4.How can we swap the values of three variables (let's say a, b, and c) without using a fourth variable?For example, if we have a=5, b=8, and c=9, how can we obtain a=9, b=5, and c=8? The challenge is toperform this operation without using an additional variable to store any of the values during the swapping process."
   ]
  },
  {
   "cell_type": "code",
   "execution_count": 20,
   "id": "c1409877",
   "metadata": {},
   "outputs": [
    {
     "name": "stdout",
     "output_type": "stream",
     "text": [
      "the value of a is 9 \n",
      "the value of b is  5 \n",
      "the value of c is  8\n"
     ]
    }
   ],
   "source": [
    "a=5\n",
    "b=8\n",
    "c=9\n",
    "a,b,c=c,a,b\n",
    "\n",
    "print(\"the value of a is\",a,\"\\nthe value of b is \",b,\"\\nthe value of c is \",c)"
   ]
  },
  {
   "cell_type": "markdown",
   "id": "29a8eb94",
   "metadata": {},
   "source": [
    "# Q5. Can you write a program that determines the nature of a given number (in this case, 87) as being positive, negative, or zero? The program should be designed to take the number as input and perform the necessary calculations to determine if the number is positive (i.e., greater than zero), negative (i.e., less than zero), or zero (i.e., equal to zero). The output of the program should indicate which of these three categories the given number falls into."
   ]
  },
  {
   "cell_type": "code",
   "execution_count": 23,
   "id": "8f3cda84",
   "metadata": {},
   "outputs": [
    {
     "name": "stdout",
     "output_type": "stream",
     "text": [
      " Enter the number is :-12\n"
     ]
    }
   ],
   "source": [
    "m= eval(input( \" Enter the number is :\"))"
   ]
  },
  {
   "cell_type": "code",
   "execution_count": 24,
   "id": "4c63f9f9",
   "metadata": {},
   "outputs": [
    {
     "name": "stdout",
     "output_type": "stream",
     "text": [
      "Enter the  number is negative : -12\n"
     ]
    }
   ],
   "source": [
    "if m>0:\n",
    "    print(\"Enter he number is postive :\",m)\n",
    "elif m<0:\n",
    "    print(\"Enter the  number is negative :\",m)\n",
    "else:\n",
    "    print(\"Enter the number is Zero:\")"
   ]
  },
  {
   "cell_type": "markdown",
   "id": "cfd91264",
   "metadata": {},
   "source": [
    "# Q6. How can you create a program that determines whether a given number (in this case, 98) is even or odd? The program should be designed to take the number as input and perform the necessary calculations to determine whether it is divisible by two. If the number is divisible by two without leaving a remainder, it is an even number, and if there is a remainder, it is an odd number. The output of the program should indicate whether the given number is even or odd."
   ]
  },
  {
   "cell_type": "code",
   "execution_count": 29,
   "id": "25d8e47b",
   "metadata": {},
   "outputs": [
    {
     "name": "stdout",
     "output_type": "stream",
     "text": [
      "enter the value is :98\n"
     ]
    }
   ],
   "source": [
    "s=eval(input(\"enter the value is :\"))"
   ]
  },
  {
   "cell_type": "code",
   "execution_count": 30,
   "id": "4143c0cd",
   "metadata": {},
   "outputs": [
    {
     "name": "stdout",
     "output_type": "stream",
     "text": [
      " the given number is even: 98\n"
     ]
    }
   ],
   "source": [
    "if s%2==0:\n",
    "    print(\" the given number is even:\",s)\n",
    "else:\n",
    "    print( \"the given number is odd\",s)"
   ]
  },
  {
   "cell_type": "markdown",
   "id": "9e053f17",
   "metadata": {},
   "source": [
    "# Q7.Write a program for sum of digits.the digits are 76543 and the output should be 25."
   ]
  },
  {
   "cell_type": "code",
   "execution_count": 1,
   "id": "f4fa709b",
   "metadata": {},
   "outputs": [
    {
     "name": "stdout",
     "output_type": "stream",
     "text": [
      "enter the number :76543\n",
      " the sum of digit 25\n"
     ]
    }
   ],
   "source": [
    "n=eval( input('enter the number :'))\n",
    "s=0\n",
    "while(n>0):\n",
    "    d=n%10\n",
    "    s+=d\n",
    "    n=n//10\n",
    "print(' the sum of digit',s)"
   ]
  },
  {
   "cell_type": "markdown",
   "id": "eab12edb",
   "metadata": {},
   "source": [
    "# Q8.Write a program for reversing the given number 5436 and the output should be 6345."
   ]
  },
  {
   "cell_type": "code",
   "execution_count": 2,
   "id": "ab4bfb1e",
   "metadata": {},
   "outputs": [
    {
     "name": "stdout",
     "output_type": "stream",
     "text": [
      " enter the value is 5436\n"
     ]
    }
   ],
   "source": [
    "n= eval( input(' enter the value is '))"
   ]
  },
  {
   "cell_type": "code",
   "execution_count": 6,
   "id": "58f375b9",
   "metadata": {},
   "outputs": [
    {
     "name": "stdout",
     "output_type": "stream",
     "text": [
      " the reversed number is : 6345\n"
     ]
    }
   ],
   "source": [
    "r=0\n",
    "while n !=0:\n",
    "    d=n%10\n",
    "    r=(r*10)+d\n",
    "    n//=10\n",
    "print(\" the reversed number is :\",r)"
   ]
  },
  {
   "cell_type": "markdown",
   "id": "068c22dc",
   "metadata": {},
   "source": [
    "# Q9.Write a program to check if a given number 371 is an Armstrong number?"
   ]
  },
  {
   "cell_type": "code",
   "execution_count": null,
   "id": "9213ec4d",
   "metadata": {},
   "outputs": [],
   "source": []
  }
 ],
 "metadata": {
  "kernelspec": {
   "display_name": "Python 3 (ipykernel)",
   "language": "python",
   "name": "python3"
  },
  "language_info": {
   "codemirror_mode": {
    "name": "ipython",
    "version": 3
   },
   "file_extension": ".py",
   "mimetype": "text/x-python",
   "name": "python",
   "nbconvert_exporter": "python",
   "pygments_lexer": "ipython3",
   "version": "3.10.9"
  }
 },
 "nbformat": 4,
 "nbformat_minor": 5
}
